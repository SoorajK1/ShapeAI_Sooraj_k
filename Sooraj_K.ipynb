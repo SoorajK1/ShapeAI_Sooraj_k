{
  "nbformat": 4,
  "nbformat_minor": 0,
  "metadata": {
    "colab": {
      "name": "Sooraj K.ipynb",
      "provenance": []
    },
    "kernelspec": {
      "name": "python3",
      "display_name": "Python 3"
    },
    "language_info": {
      "name": "python"
    }
  },
  "cells": [
    {
      "cell_type": "code",
      "metadata": {
        "id": "Ti1R4y4VWYmj"
      },
      "source": [
        "from keras.datasets import mnist\n",
        "data=mnist.load_data()"
      ],
      "execution_count": null,
      "outputs": []
    },
    {
      "cell_type": "code",
      "metadata": {
        "id": "nIqLb2uBaefv"
      },
      "source": [
        "((X_train,Y_train),(X_test,Y_test))=data"
      ],
      "execution_count": null,
      "outputs": []
    },
    {
      "cell_type": "code",
      "metadata": {
        "id": "KyupaCc1jtna"
      },
      "source": [
        "X_train=X_train.reshape((X_train.shape[0],28*28)).astype('float32')\n",
        "X_test=X_test.reshape((X_test.shape[0],28*28)).astype('float32')"
      ],
      "execution_count": null,
      "outputs": []
    },
    {
      "cell_type": "code",
      "metadata": {
        "id": "v3tedzRfjuWH"
      },
      "source": [
        "X_train=X_train/255\n",
        "X_test=X_test/255"
      ],
      "execution_count": null,
      "outputs": []
    },
    {
      "cell_type": "code",
      "metadata": {
        "id": "ChaGzC8sjuwz"
      },
      "source": [
        "X_train=X_train/255\n",
        "X_test=X_test/255"
      ],
      "execution_count": null,
      "outputs": []
    },
    {
      "cell_type": "code",
      "metadata": {
        "id": "3c5fv2KSjvIS"
      },
      "source": [
        "from keras.models import Sequential\n",
        "from keras.layers import Dense\n",
        "from keras.layers import Dropout\n"
      ],
      "execution_count": null,
      "outputs": []
    },
    {
      "cell_type": "code",
      "metadata": {
        "id": "u1dT_Veljvc_"
      },
      "source": [
        "model=Sequential()\n",
        "model.add(Dense(32,input_dim=28*28,activation='relu'))\n",
        "model.add(Dense(64,activation='relu'))\n",
        "model.add(Dense(10,activation='softmax'))"
      ],
      "execution_count": null,
      "outputs": []
    },
    {
      "cell_type": "code",
      "metadata": {
        "id": "gZcAdQ5Bjv1W"
      },
      "source": [
        "model.compile(loss='categorical_crossentropy',optimizer='adam',metrics=['accuracy'])"
      ],
      "execution_count": null,
      "outputs": []
    },
    {
      "cell_type": "code",
      "metadata": {
        "id": "FfeooQGPjwPT"
      },
      "source": [
        "model.summary()\n",
        "\n",
        "Model: \"sequential\"\n",
        "_________________________________________________________________\n",
        "Layer (type)                 Output Shape              Param #   \n",
        "=================================================================\n",
        "dense (Dense)                (None, 32)                25120     \n",
        "_________________________________________________________________\n",
        "dense_1 (Dense)              (None, 64)                2112      \n",
        "_________________________________________________________________\n",
        "dense_2 (Dense)              (None, 10)                650       \n",
        "=================================================================\n",
        "Total params: 27,882\n",
        "Trainable params: 27,882\n",
        "Non-trainable params: 0"
      ],
      "execution_count": null,
      "outputs": []
    },
    {
      "cell_type": "code",
      "metadata": {
        "id": "DobhU58pkT18"
      },
      "source": [
        "model.fit(X_train,Y_train,epochs=10,batch_size=100)\n",
        "\n",
        "Epoch 1/10\n",
        "600/600 [==============================] - 2s 2ms/step - loss: 0.7921 - accuracy: 0.7696\n",
        "Epoch 2/10\n",
        "600/600 [==============================] - 1s 2ms/step - loss: 0.2110 - accuracy: 0.9378\n",
        "Epoch 3/10\n",
        "600/600 [==============================] - 1s 2ms/step - loss: 0.1632 - accuracy: 0.9521\n",
        "Epoch 4/10\n",
        "600/600 [==============================] - 1s 2ms/step - loss: 0.1326 - accuracy: 0.9610\n",
        "Epoch 5/10\n",
        "600/600 [==============================] - 1s 2ms/step - loss: 0.1072 - accuracy: 0.9675\n",
        "Epoch 6/10\n",
        "600/600 [==============================] - 1s 2ms/step - loss: 0.0958 - accuracy: 0.9703\n",
        "Epoch 7/10\n",
        "600/600 [==============================] - 1s 2ms/step - loss: 0.0857 - accuracy: 0.9731\n",
        "Epoch 8/10\n",
        "600/600 [==============================] - 1s 2ms/step - loss: 0.0752 - accuracy: 0.9770\n",
        "Epoch 9/10\n",
        "600/600 [==============================] - 1s 2ms/step - loss: 0.0688 - accuracy: 0.9788\n",
        "Epoch 10/10\n",
        "600/600 [==============================] - 1s 2ms/step - loss: 0.0653 - accuracy: 0.9800\n",
        "\n",
        "Out[62]:\n",
        "\n",
        "<tensorflow.python.keras.callbacks.History at 0x7fa41231e990>\n",
        "\n"
      ],
      "execution_count": null,
      "outputs": []
    },
    {
      "cell_type": "code",
      "metadata": {
        "id": "h4IIlrtSkaiM"
      },
      "source": [
        "scores=model.evaluate(X_test,Y_test)\n",
        "print(scores)\n",
        "\n",
        "313/313 [==============================] - 0s 1ms/step - loss: 0.1007 - accuracy: 0.9690\n",
        "[0.10071460902690887, 0.968999981880188]\n",
        "\n"
      ],
      "execution_count": null,
      "outputs": []
    }
  ]
}